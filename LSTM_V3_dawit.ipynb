{
  "nbformat": 4,
  "nbformat_minor": 0,
  "metadata": {
    "colab": {
      "provenance": [],
      "authorship_tag": "ABX9TyMkHCI3eVS3hH/cnsefXMfV",
      "include_colab_link": true
    },
    "kernelspec": {
      "name": "python3",
      "display_name": "Python 3"
    },
    "language_info": {
      "name": "python"
    }
  },
  "cells": [
    {
      "cell_type": "markdown",
      "metadata": {
        "id": "view-in-github",
        "colab_type": "text"
      },
      "source": [
        "<a href=\"https://colab.research.google.com/github/dawitfamanu/dawitfamanu.github.io/blob/main/LSTM_V3_dawit.ipynb\" target=\"_parent\"><img src=\"https://colab.research.google.com/assets/colab-badge.svg\" alt=\"Open In Colab\"/></a>"
      ]
    },
    {
      "cell_type": "code",
      "execution_count": 1,
      "metadata": {
        "colab": {
          "base_uri": "https://localhost:8080/"
        },
        "id": "rVauI-Zs25bT",
        "outputId": "cafe9117-d6b8-4e6f-9329-54a4fa23fc6f"
      },
      "outputs": [
        {
          "output_type": "stream",
          "name": "stdout",
          "text": [
            "Looking in indexes: https://pypi.org/simple, https://us-python.pkg.dev/colab-wheels/public/simple/\n",
            "Requirement already satisfied: tensorflow in /usr/local/lib/python3.10/dist-packages (2.12.0)\n",
            "Requirement already satisfied: absl-py>=1.0.0 in /usr/local/lib/python3.10/dist-packages (from tensorflow) (1.4.0)\n",
            "Requirement already satisfied: astunparse>=1.6.0 in /usr/local/lib/python3.10/dist-packages (from tensorflow) (1.6.3)\n",
            "Requirement already satisfied: flatbuffers>=2.0 in /usr/local/lib/python3.10/dist-packages (from tensorflow) (23.3.3)\n",
            "Requirement already satisfied: gast<=0.4.0,>=0.2.1 in /usr/local/lib/python3.10/dist-packages (from tensorflow) (0.4.0)\n",
            "Requirement already satisfied: google-pasta>=0.1.1 in /usr/local/lib/python3.10/dist-packages (from tensorflow) (0.2.0)\n",
            "Requirement already satisfied: grpcio<2.0,>=1.24.3 in /usr/local/lib/python3.10/dist-packages (from tensorflow) (1.54.0)\n",
            "Requirement already satisfied: h5py>=2.9.0 in /usr/local/lib/python3.10/dist-packages (from tensorflow) (3.8.0)\n",
            "Requirement already satisfied: jax>=0.3.15 in /usr/local/lib/python3.10/dist-packages (from tensorflow) (0.4.10)\n",
            "Requirement already satisfied: keras<2.13,>=2.12.0 in /usr/local/lib/python3.10/dist-packages (from tensorflow) (2.12.0)\n",
            "Requirement already satisfied: libclang>=13.0.0 in /usr/local/lib/python3.10/dist-packages (from tensorflow) (16.0.0)\n",
            "Requirement already satisfied: numpy<1.24,>=1.22 in /usr/local/lib/python3.10/dist-packages (from tensorflow) (1.22.4)\n",
            "Requirement already satisfied: opt-einsum>=2.3.2 in /usr/local/lib/python3.10/dist-packages (from tensorflow) (3.3.0)\n",
            "Requirement already satisfied: packaging in /usr/local/lib/python3.10/dist-packages (from tensorflow) (23.1)\n",
            "Requirement already satisfied: protobuf!=4.21.0,!=4.21.1,!=4.21.2,!=4.21.3,!=4.21.4,!=4.21.5,<5.0.0dev,>=3.20.3 in /usr/local/lib/python3.10/dist-packages (from tensorflow) (3.20.3)\n",
            "Requirement already satisfied: setuptools in /usr/local/lib/python3.10/dist-packages (from tensorflow) (67.7.2)\n",
            "Requirement already satisfied: six>=1.12.0 in /usr/local/lib/python3.10/dist-packages (from tensorflow) (1.16.0)\n",
            "Requirement already satisfied: tensorboard<2.13,>=2.12 in /usr/local/lib/python3.10/dist-packages (from tensorflow) (2.12.2)\n",
            "Requirement already satisfied: tensorflow-estimator<2.13,>=2.12.0 in /usr/local/lib/python3.10/dist-packages (from tensorflow) (2.12.0)\n",
            "Requirement already satisfied: termcolor>=1.1.0 in /usr/local/lib/python3.10/dist-packages (from tensorflow) (2.3.0)\n",
            "Requirement already satisfied: typing-extensions>=3.6.6 in /usr/local/lib/python3.10/dist-packages (from tensorflow) (4.5.0)\n",
            "Requirement already satisfied: wrapt<1.15,>=1.11.0 in /usr/local/lib/python3.10/dist-packages (from tensorflow) (1.14.1)\n",
            "Requirement already satisfied: tensorflow-io-gcs-filesystem>=0.23.1 in /usr/local/lib/python3.10/dist-packages (from tensorflow) (0.32.0)\n",
            "Requirement already satisfied: wheel<1.0,>=0.23.0 in /usr/local/lib/python3.10/dist-packages (from astunparse>=1.6.0->tensorflow) (0.40.0)\n",
            "Requirement already satisfied: ml-dtypes>=0.1.0 in /usr/local/lib/python3.10/dist-packages (from jax>=0.3.15->tensorflow) (0.1.0)\n",
            "Requirement already satisfied: scipy>=1.7 in /usr/local/lib/python3.10/dist-packages (from jax>=0.3.15->tensorflow) (1.10.1)\n",
            "Requirement already satisfied: google-auth<3,>=1.6.3 in /usr/local/lib/python3.10/dist-packages (from tensorboard<2.13,>=2.12->tensorflow) (2.17.3)\n",
            "Requirement already satisfied: google-auth-oauthlib<1.1,>=0.5 in /usr/local/lib/python3.10/dist-packages (from tensorboard<2.13,>=2.12->tensorflow) (1.0.0)\n",
            "Requirement already satisfied: markdown>=2.6.8 in /usr/local/lib/python3.10/dist-packages (from tensorboard<2.13,>=2.12->tensorflow) (3.4.3)\n",
            "Requirement already satisfied: requests<3,>=2.21.0 in /usr/local/lib/python3.10/dist-packages (from tensorboard<2.13,>=2.12->tensorflow) (2.27.1)\n",
            "Requirement already satisfied: tensorboard-data-server<0.8.0,>=0.7.0 in /usr/local/lib/python3.10/dist-packages (from tensorboard<2.13,>=2.12->tensorflow) (0.7.0)\n",
            "Requirement already satisfied: tensorboard-plugin-wit>=1.6.0 in /usr/local/lib/python3.10/dist-packages (from tensorboard<2.13,>=2.12->tensorflow) (1.8.1)\n",
            "Requirement already satisfied: werkzeug>=1.0.1 in /usr/local/lib/python3.10/dist-packages (from tensorboard<2.13,>=2.12->tensorflow) (2.3.0)\n",
            "Requirement already satisfied: cachetools<6.0,>=2.0.0 in /usr/local/lib/python3.10/dist-packages (from google-auth<3,>=1.6.3->tensorboard<2.13,>=2.12->tensorflow) (5.3.0)\n",
            "Requirement already satisfied: pyasn1-modules>=0.2.1 in /usr/local/lib/python3.10/dist-packages (from google-auth<3,>=1.6.3->tensorboard<2.13,>=2.12->tensorflow) (0.3.0)\n",
            "Requirement already satisfied: rsa<5,>=3.1.4 in /usr/local/lib/python3.10/dist-packages (from google-auth<3,>=1.6.3->tensorboard<2.13,>=2.12->tensorflow) (4.9)\n",
            "Requirement already satisfied: requests-oauthlib>=0.7.0 in /usr/local/lib/python3.10/dist-packages (from google-auth-oauthlib<1.1,>=0.5->tensorboard<2.13,>=2.12->tensorflow) (1.3.1)\n",
            "Requirement already satisfied: urllib3<1.27,>=1.21.1 in /usr/local/lib/python3.10/dist-packages (from requests<3,>=2.21.0->tensorboard<2.13,>=2.12->tensorflow) (1.26.15)\n",
            "Requirement already satisfied: certifi>=2017.4.17 in /usr/local/lib/python3.10/dist-packages (from requests<3,>=2.21.0->tensorboard<2.13,>=2.12->tensorflow) (2022.12.7)\n",
            "Requirement already satisfied: charset-normalizer~=2.0.0 in /usr/local/lib/python3.10/dist-packages (from requests<3,>=2.21.0->tensorboard<2.13,>=2.12->tensorflow) (2.0.12)\n",
            "Requirement already satisfied: idna<4,>=2.5 in /usr/local/lib/python3.10/dist-packages (from requests<3,>=2.21.0->tensorboard<2.13,>=2.12->tensorflow) (3.4)\n",
            "Requirement already satisfied: MarkupSafe>=2.1.1 in /usr/local/lib/python3.10/dist-packages (from werkzeug>=1.0.1->tensorboard<2.13,>=2.12->tensorflow) (2.1.2)\n",
            "Requirement already satisfied: pyasn1<0.6.0,>=0.4.6 in /usr/local/lib/python3.10/dist-packages (from pyasn1-modules>=0.2.1->google-auth<3,>=1.6.3->tensorboard<2.13,>=2.12->tensorflow) (0.5.0)\n",
            "Requirement already satisfied: oauthlib>=3.0.0 in /usr/local/lib/python3.10/dist-packages (from requests-oauthlib>=0.7.0->google-auth-oauthlib<1.1,>=0.5->tensorboard<2.13,>=2.12->tensorflow) (3.2.2)\n"
          ]
        }
      ],
      "source": [
        "!pip install tensorflow"
      ]
    },
    {
      "cell_type": "code",
      "source": [
        "import os\n",
        "\n",
        "import numpy as np\n",
        "import pandas as pd\n",
        "import tensorflow as tf\n",
        "from sklearn.model_selection import train_test_split\n",
        "from sklearn.preprocessing import MinMaxScaler\n",
        "from keras.models import Sequential\n",
        "from keras.layers import Dense, LSTM, Dropout\n",
        "from keras.optimizers import Adam\n",
        "from keras.callbacks import EarlyStopping\n",
        "\n",
        "import matplotlib.pyplot as plt\n",
        "from sklearn.metrics import confusion_matrix\n",
        "import seaborn as sns\n",
        "import random\n",
        "import csv"
      ],
      "metadata": {
        "id": "Bwq4XuJX48tM"
      },
      "execution_count": 2,
      "outputs": []
    },
    {
      "cell_type": "code",
      "source": [
        "from google.colab import drive\n",
        "drive.mount('/content/drive')"
      ],
      "metadata": {
        "colab": {
          "base_uri": "https://localhost:8080/"
        },
        "id": "Pe5pF0UH5JEt",
        "outputId": "d19a02bf-d8e6-4305-e017-8360661df2d7"
      },
      "execution_count": 3,
      "outputs": [
        {
          "output_type": "stream",
          "name": "stdout",
          "text": [
            "Mounted at /content/drive\n"
          ]
        }
      ]
    },
    {
      "cell_type": "code",
      "source": [
        "\n",
        "# set the directory path for the two classes\n",
        "n_data_dir = \"/content/drive/MyDrive/final_dataset/n_data\"\n",
        "d_data_dir = \"/content/drive/MyDrive/final_dataset/d_data\"\n",
        "\n",
        "# read all csv files from the n_data directory and remove outliers\n",
        "min = 200 #the minimum number of rows in the entire dataset\n",
        "n_data_files = os.listdir(n_data_dir)\n",
        "n_data = pd.DataFrame()\n",
        "outlier_n_data = []\n",
        "for file in n_data_files:\n",
        "    if file.endswith(\".csv\"):\n",
        "      file_path = os.path.join(n_data_dir, file)\n",
        "      df = pd.read_csv(file_path)\n",
        "      if df.shape[0] <min:\n",
        "        continue\n",
        "\n",
        "      max_t = df.iloc[:, 2]\n",
        "      for i in range(len(max_t)): # find outliers in max_temp (>50 degrees)\n",
        "        if max_t[i] > 50:\n",
        "          outlier_n_data.append(file_path)\n",
        "      \n",
        "      if file_path in outlier_n_data: \n",
        "        continue\n",
        "      else: # add the files only if they are not an outlier\n",
        "        n_data = pd.concat([n_data, df.iloc[:min, :]])\n",
        "\n",
        "outlier_n_data = set(outlier_n_data)\n",
        "\n",
        "# read all csv files from the d_data directory\n",
        "d_data_files = os.listdir(d_data_dir)\n",
        "d_data = pd.DataFrame()\n",
        "for file in d_data_files:\n",
        "    if file.endswith(\".csv\"):\n",
        "      file_path = os.path.join(d_data_dir, file)\n",
        "      df = pd.read_csv(file_path)\n",
        "      if df.shape[0] <min:\n",
        "        continue\n",
        "      \n",
        "      d_data = pd.concat([d_data, df.iloc[:min, :]])"
      ],
      "metadata": {
        "id": "x6ZtW56Z_ERA"
      },
      "execution_count": null,
      "outputs": []
    },
    {
      "cell_type": "code",
      "source": [
        "#Normal = 0, #Disease = 1\n",
        "n_data[\"Status\"] = 0\n",
        "d_data[\"Status\"] = 1"
      ],
      "metadata": {
        "id": "m2Lwe0k8doJa"
      },
      "execution_count": null,
      "outputs": []
    },
    {
      "cell_type": "code",
      "source": [
        "combined_data = pd.concat([n_data, d_data], axis = 0)"
      ],
      "metadata": {
        "id": "f3b117e1Vsu0"
      },
      "execution_count": null,
      "outputs": []
    },
    {
      "cell_type": "code",
      "source": [
        "combined_data.drop([\"time\" ,\" CO2_avg\", \" CO2_max\", \" CO2_min\"], axis = 1, inplace=True)"
      ],
      "metadata": {
        "id": "7Diksu78TwV1"
      },
      "execution_count": null,
      "outputs": []
    },
    {
      "cell_type": "code",
      "source": [
        "combined_data.shape"
      ],
      "metadata": {
        "colab": {
          "base_uri": "https://localhost:8080/"
        },
        "id": "NurIZezmcWEF",
        "outputId": "75ea132f-5eb1-46e4-98ca-843dd5933952"
      },
      "execution_count": null,
      "outputs": [
        {
          "output_type": "execute_result",
          "data": {
            "text/plain": [
              "(1777200, 10)"
            ]
          },
          "metadata": {},
          "execution_count": 80
        }
      ]
    },
    {
      "cell_type": "code",
      "source": [
        "combined_data"
      ],
      "metadata": {
        "colab": {
          "base_uri": "https://localhost:8080/",
          "height": 165
        },
        "id": "QoPN4WHuxNgz",
        "outputId": "a8c324ab-9046-4fb0-a4be-afb5de1a62eb"
      },
      "execution_count": 19,
      "outputs": [
        {
          "output_type": "error",
          "ename": "NameError",
          "evalue": "ignored",
          "traceback": [
            "\u001b[0;31m---------------------------------------------------------------------------\u001b[0m",
            "\u001b[0;31mNameError\u001b[0m                                 Traceback (most recent call last)",
            "\u001b[0;32m<ipython-input-19-45e93a0c9e8d>\u001b[0m in \u001b[0;36m<cell line: 1>\u001b[0;34m()\u001b[0m\n\u001b[0;32m----> 1\u001b[0;31m \u001b[0mcombined_data\u001b[0m\u001b[0;34m\u001b[0m\u001b[0;34m\u001b[0m\u001b[0m\n\u001b[0m",
            "\u001b[0;31mNameError\u001b[0m: name 'combined_data' is not defined"
          ]
        }
      ]
    },
    {
      "cell_type": "code",
      "source": [
        "dfs = np.array_split(combined_data, len(combined_data)/ 200)\n",
        "\n",
        "# save each chunk to a separate csv file\n",
        "for i, df_chunk in enumerate(dfs):\n",
        "    df_chunk.to_csv(f'/content/drive/MyDrive/output/output_{i+1}.csv', index=False)"
      ],
      "metadata": {
        "id": "yPLVbIx8nEW5"
      },
      "execution_count": null,
      "outputs": []
    },
    {
      "cell_type": "code",
      "source": [
        "len(dfs)"
      ],
      "metadata": {
        "colab": {
          "base_uri": "https://localhost:8080/"
        },
        "id": "R_BOcZ6JbISX",
        "outputId": "0a9b1a00-21b3-486a-b2aa-8a4337384ad9"
      },
      "execution_count": null,
      "outputs": [
        {
          "output_type": "execute_result",
          "data": {
            "text/plain": [
              "8886"
            ]
          },
          "metadata": {},
          "execution_count": 84
        }
      ]
    },
    {
      "cell_type": "code",
      "source": [
        "data_dir = \"/content/drive/MyDrive/output\""
      ],
      "metadata": {
        "id": "NIXYU7rLcVP9"
      },
      "execution_count": 4,
      "outputs": []
    },
    {
      "cell_type": "code",
      "source": [
        "def read_csv_files(folder_path): #reads csv files and returns puts all the data in 1 list\n",
        "    data_list = []\n",
        "\n",
        "    for file in os.listdir(folder_path):\n",
        "        file_path = os.path.join(folder_path, file)\n",
        "        df = pd.read_csv(file_path)\n",
        "\n",
        "        data_list.append(df.values[:, :]) \n",
        "    \n",
        "    return list(data_list)\n",
        "\n",
        "#splits features and labels into two different arrays\n",
        "def get_features_and_labels(data_list):\n",
        "  features_X = []\n",
        "  labels_y = []\n",
        "  for data in data_list:\n",
        "    labels_y.append(data[:, -1]) #store the label of data \n",
        "    features_X.append(data[:, :-1]) #store the features of data exculding label\n",
        "  \n",
        "  return np.array(features_X), np.array(labels_y)\n",
        "\n",
        "\n",
        "def create_sequences_from_list(features_list, labels_list, seq_length):#slightly modified from Jungi's function\n",
        "    feat_sequences = []\n",
        "    labels_seq = []\n",
        "    for data in features_list: # create seq for features list\n",
        "      feat_sequences.append(data[:seq_length, :])\n",
        "    for data in labels_list: # create seq for labels list\n",
        "      labels_seq.append(data[:1][0]) \n",
        "\n",
        "    return np.array(feat_sequences), np.array(labels_seq) #return feature and label sequences as pandas array\n",
        "\n",
        "\n",
        "all_data_list = read_csv_files(data_dir)"
      ],
      "metadata": {
        "id": "ldZ_0g7_fEIx"
      },
      "execution_count": 5,
      "outputs": []
    },
    {
      "cell_type": "code",
      "source": [
        "print(\"Total # of plants: \", len(all_data_list))\n",
        "print(\"Recordings per plant: \", len(all_data_list[0]))"
      ],
      "metadata": {
        "colab": {
          "base_uri": "https://localhost:8080/"
        },
        "id": "dFUGQrodmxI7",
        "outputId": "b239b119-6680-4314-8e61-f374b9f89c87"
      },
      "execution_count": 10,
      "outputs": [
        {
          "output_type": "stream",
          "name": "stdout",
          "text": [
            "Total # of plants:  8886\n",
            "Recordings per plant:  200\n"
          ]
        }
      ]
    },
    {
      "cell_type": "code",
      "source": [],
      "metadata": {
        "colab": {
          "base_uri": "https://localhost:8080/"
        },
        "id": "gqRGwnr4wsrR",
        "outputId": "e10900fd-b9a4-4313-9230-148f47c96abb"
      },
      "execution_count": 17,
      "outputs": [
        {
          "output_type": "execute_result",
          "data": {
            "text/plain": [
              "array([22.2, 23.1, 21. , 75.2, 80.4, 72.2, 17.6, 18.4, 16.6,  0. ])"
            ]
          },
          "metadata": {},
          "execution_count": 17
        }
      ]
    },
    {
      "cell_type": "code",
      "source": [
        "#shuffle all_data_list\n",
        "random.shuffle(all_data_list)"
      ],
      "metadata": {
        "id": "A95zZxqdk2LP"
      },
      "execution_count": 11,
      "outputs": []
    },
    {
      "cell_type": "code",
      "source": [
        "#first, store labels and features separately\n",
        "features_X, labels_y = get_features_and_labels(all_data_list)"
      ],
      "metadata": {
        "id": "dv8_7A6wl4KQ"
      },
      "execution_count": 12,
      "outputs": []
    },
    {
      "cell_type": "code",
      "source": [
        "features_X"
      ],
      "metadata": {
        "id": "O2pmoASRxBLZ"
      },
      "execution_count": null,
      "outputs": []
    },
    {
      "cell_type": "code",
      "source": [
        "features_X.shape"
      ],
      "metadata": {
        "colab": {
          "base_uri": "https://localhost:8080/"
        },
        "id": "8s8w4GZVvZcJ",
        "outputId": "548ee424-8a10-47a6-f71a-286283c20c52"
      },
      "execution_count": 13,
      "outputs": [
        {
          "output_type": "execute_result",
          "data": {
            "text/plain": [
              "(8886, 200, 9)"
            ]
          },
          "metadata": {},
          "execution_count": 13
        }
      ]
    },
    {
      "cell_type": "code",
      "source": [
        "labels_y.shape"
      ],
      "metadata": {
        "colab": {
          "base_uri": "https://localhost:8080/"
        },
        "id": "08OPe6bQve-J",
        "outputId": "e661cbb2-d2db-461f-9047-f21574465732"
      },
      "execution_count": 14,
      "outputs": [
        {
          "output_type": "execute_result",
          "data": {
            "text/plain": [
              "(8886, 200)"
            ]
          },
          "metadata": {},
          "execution_count": 14
        }
      ]
    },
    {
      "cell_type": "code",
      "source": [
        "#train test split \n",
        "train_features_X, test_features_X, train_labels_y, test_labels_y = train_test_split(features_X, labels_y, test_size=0.2, random_state=20)"
      ],
      "metadata": {
        "id": "gEIGPgoAl65S"
      },
      "execution_count": 29,
      "outputs": []
    },
    {
      "cell_type": "code",
      "source": [
        "#Create sequences\n",
        "seq_length = 200\n",
        "\n",
        "#make sequences of length 200 for X_train, X_test, y_train, y_test\n",
        "X_train, y_train = create_sequences_from_list(train_features_X, train_labels_y, seq_length)\n",
        "X_test, y_test = create_sequences_from_list(test_features_X, test_labels_y, seq_length)"
      ],
      "metadata": {
        "id": "wWCX9szTmDAa"
      },
      "execution_count": 30,
      "outputs": []
    },
    {
      "cell_type": "code",
      "source": [
        "X_train.shape"
      ],
      "metadata": {
        "colab": {
          "base_uri": "https://localhost:8080/"
        },
        "id": "xWuNP-fIt8py",
        "outputId": "0e7a49ec-27dc-42fa-93fb-f4d5a0ee0d1e"
      },
      "execution_count": null,
      "outputs": [
        {
          "output_type": "execute_result",
          "data": {
            "text/plain": [
              "(7108, 200, 9)"
            ]
          },
          "metadata": {},
          "execution_count": 10
        }
      ]
    },
    {
      "cell_type": "code",
      "source": [
        "y_train.shape"
      ],
      "metadata": {
        "colab": {
          "base_uri": "https://localhost:8080/"
        },
        "id": "DOsrlRgf6N8H",
        "outputId": "88d42dce-f875-4588-a0ac-e07afa2c8564"
      },
      "execution_count": 33,
      "outputs": [
        {
          "output_type": "execute_result",
          "data": {
            "text/plain": [
              "(7108,)"
            ]
          },
          "metadata": {},
          "execution_count": 33
        }
      ]
    },
    {
      "cell_type": "code",
      "source": [
        "# Create the LSTM model\n",
        "model = Sequential()\n",
        "model.add(LSTM(10, input_shape=(X_train.shape[1], X_train.shape[2]), return_sequences=True))\n",
        "model.add(Dropout(0.4))\n",
        "model.add(LSTM(10))\n",
        "model.add(Dropout(0.4))\n",
        "model.add(Dense(1, activation='sigmoid'))\n",
        "\n",
        "# Compile the model\n",
        "model.compile(optimizer=Adam(learning_rate=1e-4), loss='binary_crossentropy', metrics=['accuracy'])\n",
        "\n",
        "# Train the model\n",
        "early_stopping = EarlyStopping(monitor='val_loss', patience=5)\n",
        "history = model.fit(X_train, y_train, validation_split=0.2, epochs=10, batch_size=32, callbacks=[early_stopping])\n",
        "\n",
        "# Evaluate the model\n",
        "loss, accuracy = model.evaluate(X_test, y_test)\n",
        "print(\"Test loss:\", loss)\n",
        "print(\"Test accuracy:\", accuracy)"
      ],
      "metadata": {
        "colab": {
          "base_uri": "https://localhost:8080/"
        },
        "id": "i_M7_jT_mHVW",
        "outputId": "4a2e8f94-5c1d-4392-a757-eb25f588074a"
      },
      "execution_count": 34,
      "outputs": [
        {
          "output_type": "stream",
          "name": "stdout",
          "text": [
            "Epoch 1/10\n",
            "178/178 [==============================] - 35s 174ms/step - loss: 0.6894 - accuracy: 0.5375 - val_loss: 0.6672 - val_accuracy: 0.8896\n",
            "Epoch 2/10\n",
            "178/178 [==============================] - 44s 250ms/step - loss: 0.6286 - accuracy: 0.6864 - val_loss: 0.5558 - val_accuracy: 0.9135\n",
            "Epoch 3/10\n",
            "178/178 [==============================] - 35s 196ms/step - loss: 0.5273 - accuracy: 0.8519 - val_loss: 0.4265 - val_accuracy: 0.9297\n",
            "Epoch 4/10\n",
            "178/178 [==============================] - 40s 225ms/step - loss: 0.3955 - accuracy: 0.9370 - val_loss: 0.2958 - val_accuracy: 0.9810\n",
            "Epoch 5/10\n",
            "178/178 [==============================] - 31s 170ms/step - loss: 0.3062 - accuracy: 0.9567 - val_loss: 0.2282 - val_accuracy: 0.9810\n",
            "Epoch 6/10\n",
            "178/178 [==============================] - 38s 215ms/step - loss: 0.2574 - accuracy: 0.9666 - val_loss: 0.2358 - val_accuracy: 0.9346\n",
            "Epoch 7/10\n",
            "178/178 [==============================] - 37s 209ms/step - loss: 0.2288 - accuracy: 0.9705 - val_loss: 0.1756 - val_accuracy: 0.9810\n",
            "Epoch 8/10\n",
            "178/178 [==============================] - 31s 172ms/step - loss: 0.2107 - accuracy: 0.9722 - val_loss: 0.1593 - val_accuracy: 0.9810\n",
            "Epoch 9/10\n",
            "178/178 [==============================] - 40s 223ms/step - loss: 0.1910 - accuracy: 0.9750 - val_loss: 0.1531 - val_accuracy: 0.9810\n",
            "Epoch 10/10\n",
            "178/178 [==============================] - 42s 238ms/step - loss: 0.1775 - accuracy: 0.9756 - val_loss: 0.1946 - val_accuracy: 0.9177\n",
            "56/56 [==============================] - 2s 31ms/step - loss: 0.1850 - accuracy: 0.9308\n",
            "Test loss: 0.18499299883842468\n",
            "Test accuracy: 0.9308211207389832\n"
          ]
        }
      ]
    },
    {
      "cell_type": "code",
      "source": [
        "model.save('/content/drive/MyDrive/LSTM_model_v3.h5')"
      ],
      "metadata": {
        "id": "pYynHJ3XDi9M"
      },
      "execution_count": null,
      "outputs": []
    },
    {
      "cell_type": "code",
      "source": [
        "features_X.shape"
      ],
      "metadata": {
        "colab": {
          "base_uri": "https://localhost:8080/"
        },
        "id": "dBfXxWUjrFul",
        "outputId": "67363082-c089-4e84-dbd6-2d74a3fb9ced"
      },
      "execution_count": null,
      "outputs": [
        {
          "output_type": "execute_result",
          "data": {
            "text/plain": [
              "(8886, 200, 9)"
            ]
          },
          "metadata": {},
          "execution_count": 13
        }
      ]
    },
    {
      "cell_type": "code",
      "source": [
        "import matplotlib.pyplot as plt\n",
        "\n",
        "# Retrieve the training history from the 'history' object returned by model.fit()\n",
        "training_loss = history.history['loss']\n",
        "validation_loss = history.history['val_loss']\n",
        "\n",
        "print(training_loss) \n",
        "print(validation_loss)\n",
        "\n",
        "# Plot the training and validation loss\n",
        "epochs = range(1, len(training_loss) + 1)\n",
        "plt.plot(epochs, training_loss, color='blue', label='Training Loss')\n",
        "plt.plot(epochs, validation_loss, color='red', label='Validation Loss')\n",
        "plt.title('Training and Validation Loss')\n",
        "plt.xlabel('Epochs')\n",
        "plt.ylabel('Loss')\n",
        "plt.legend()\n",
        "plt.show()"
      ],
      "metadata": {
        "colab": {
          "base_uri": "https://localhost:8080/",
          "height": 527
        },
        "id": "1XGNl4EBznsU",
        "outputId": "5784c71a-cd81-4183-ff7d-0515529cdb42"
      },
      "execution_count": null,
      "outputs": [
        {
          "output_type": "stream",
          "name": "stdout",
          "text": [
            "[0.7006781697273254, 0.69779372215271, 0.6973297595977783, 0.6934391260147095, 0.6874143481254578, 0.6478405594825745, 0.5260475873947144, 0.412683367729187, 0.31604817509651184, 0.2467910349369049]\n",
            "[0.6930176019668579, 0.6920228004455566, 0.6910223364830017, 0.6872806549072266, 0.6726872324943542, 0.5768558979034424, 0.44182345271110535, 0.32548362016677856, 0.2467072606086731, 0.1916394829750061]\n"
          ]
        },
        {
          "output_type": "display_data",
          "data": {
            "text/plain": [
              "<Figure size 640x480 with 1 Axes>"
            ],
            "image/png": "[encoded data removed]"
          },
          "metadata": {}
        }
      ]
    },
    {
      "cell_type": "code",
      "source": [
        "import matplotlib.pyplot as plt\n",
        "\n",
        "# Retrieve the training history from the 'history' object returned by model.fit()\n",
        "training_accuracy = history.history['accuracy']\n",
        "validation_accuracy = history.history['val_accuracy']\n",
        "\n",
        "print(training_accuracy) \n",
        "print(validation_accuracy)\n",
        "# Plot the training and validation accuracy\n",
        "epochs = range(1, len(training_accuracy) + 1)\n",
        "plt.plot(epochs, training_accuracy, color='blue', label='Training Accuracy')\n",
        "plt.plot(epochs, validation_accuracy, color='red', label='Validation Accuracy')\n",
        "plt.title('Training and Validation Accuracy')\n",
        "plt.xlabel('Epochs')\n",
        "plt.ylabel('Accuracy')\n",
        "plt.legend()\n",
        "plt.show()"
      ],
      "metadata": {
        "id": "fI9R3SP4zwBZ",
        "outputId": "a260e487-b51a-4e6d-d03c-d7f271684261",
        "colab": {
          "base_uri": "https://localhost:8080/",
          "height": 527
        }
      },
      "execution_count": null,
      "outputs": [
        {
          "output_type": "stream",
          "name": "stdout",
          "text": [
            "[0.5035173892974854, 0.5131902694702148, 0.4996482729911804, 0.5121350884437561, 0.5392191410064697, 0.6598663330078125, 0.8279985785484314, 0.8879704475402832, 0.9294759035110474, 0.952690839767456]\n",
            "[0.5168776512145996, 0.5168776512145996, 0.5168776512145996, 0.4697608947753906, 0.7046413421630859, 0.8157524466514587, 0.8544303774833679, 0.9282700419425964, 0.9367088675498962, 0.9697608947753906]\n"
          ]
        },
        {
          "output_type": "display_data",
          "data": {
            "text/plain": [
              "<Figure size 640x480 with 1 Axes>"
            ],
            "image/png": "[encoded data removed]"
          },
          "metadata": {}
        }
      ]
    },
    {
      "cell_type": "code",
      "source": [
        "from sklearn.metrics import confusion_matrix\n",
        "import matplotlib.pyplot as plt\n",
        "\n",
        "# Predict on test data\n",
        "y_pred = model.predict(X_test)\n",
        "y_pred = (y_pred > 0.5)\n",
        "\n",
        "# Calculate confusion matrix\n",
        "cm = confusion_matrix(y_test, y_pred)\n",
        "\n",
        "# Define class names\n",
        "class_names = ['Diseased', 'Healthy']\n",
        "\n",
        "# Plot confusion matrix\n",
        "plt.imshow(cm, cmap=plt.cm.Blues)\n",
        "plt.title('Confusion Matrix')\n",
        "plt.colorbar()\n",
        "tick_marks = np.arange(len(class_names))\n",
        "plt.xticks(tick_marks, class_names, rotation=45)\n",
        "plt.yticks(tick_marks, class_names)\n",
        "plt.xlabel('Predicted')\n",
        "plt.ylabel('True')\n",
        "plt.tight_layout()\n",
        "for i in range(len(class_names)):\n",
        "    for j in range(len(class_names)):\n",
        "        plt.text(j, i, format(cm[i, j], 'd'), horizontalalignment=\"center\", color=\"white\" if cm[i, j] > (cm.max() / 2) else \"black\")\n",
        "plt.show()"
      ],
      "metadata": {
        "id": "15mWwBYlzwjR",
        "colab": {
          "base_uri": "https://localhost:8080/",
          "height": 504
        },
        "outputId": "3ff21f8d-a14d-4694-ef96-21dc1077999e"
      },
      "execution_count": null,
      "outputs": [
        {
          "output_type": "stream",
          "name": "stdout",
          "text": [
            "56/56 [==============================] - 3s 30ms/step\n"
          ]
        },
        {
          "output_type": "display_data",
          "data": {
            "text/plain": [
              "<Figure size 640x480 with 2 Axes>"
            ],
            "image/png": "[encoded data removed]"
          },
          "metadata": {}
        }
      ]
    },
    {
      "cell_type": "code",
      "source": [
        "from keras.models import load_model\n",
        "\n",
        "filepath = \"/content/drive/MyDrive/final_dataset/n_data/n_770079.csv\"\n",
        "\n",
        "df = pd.read_csv(filepath)\n",
        "\n",
        "row_count = len(df)\n",
        "min = 200\n",
        "\n",
        "model = load_model('/content/drive/MyDrive/LSTM_model_v3.h5')\n",
        "\n",
        "#Check if the input csv has enough number of recordings. We need at least 200 recordings\n",
        "\n",
        "if(row_count >= min):\n",
        "    test = df.iloc[:min, 1:10].values\n",
        "    test = test.reshape((1, 200, 9))\n",
        "    prediction = model.predict(test)\n",
        "    if(prediction <= 0.5):\n",
        "        condition = \"Healthy\"\n",
        "        prediction = 1-prediction\n",
        "    else:\n",
        "        condition = \"Unhealthy\"\n",
        "    print(f\"There is {prediction*100}% chance that the plant is {condition}\")\n",
        "\n",
        "else:\n",
        "    print(\"Not enough number of recordings. The model requires at least 200 recordings in the csv file\")"
      ],
      "metadata": {
        "colab": {
          "base_uri": "https://localhost:8080/"
        },
        "id": "I859x3ZHKpog",
        "outputId": "b3ec1635-3f5e-475c-b7c8-07f11a5c3f02"
      },
      "execution_count": null,
      "outputs": [
        {
          "output_type": "stream",
          "name": "stdout",
          "text": [
            "1/1 [==============================] - 1s 1s/step\n",
            "There is [[97.26929]]% chance that the plant is Healthy\n"
          ]
        }
      ]
    },
    {
      "cell_type": "code",
      "source": [
        "import matplotlib.pyplot as plt\n",
        "from sklearn.metrics import roc_curve, auc\n",
        "\n",
        "# Get the model's predicted probabilities for the positive class\n",
        "y_pred_prob = model.predict(X_test)\n",
        "\n",
        "# Compute the false positive rate (fpr), true positive rate (tpr), and thresholds\n",
        "fpr, tpr, thresholds = roc_curve(y_test, y_pred_prob)\n",
        "\n",
        "# Calculate the Area Under the Curve (AUC)\n",
        "auc_score = auc(fpr, tpr)\n",
        "\n",
        "# Plot the ROC curve\n",
        "plt.plot(fpr, tpr, label='ROC curve (AUC = %0.2f)' % auc_score)\n",
        "plt.plot([0, 1], [0, 1], 'k--')  # Diagonal line for random guessing\n",
        "plt.xlabel('False Positive Rate')\n",
        "plt.ylabel('True Positive Rate')\n",
        "plt.title('Receiver Operating Characteristic (ROC) Curve')\n",
        "plt.legend(loc='lower right')\n",
        "plt.show()"
      ],
      "metadata": {
        "colab": {
          "base_uri": "https://localhost:8080/",
          "height": 489
        },
        "id": "H7dgPy1pnlhE",
        "outputId": "b9f01cce-bfe9-4f87-9e79-64db42349702"
      },
      "execution_count": null,
      "outputs": [
        {
          "output_type": "stream",
          "name": "stdout",
          "text": [
            "56/56 [==============================] - 2s 43ms/step\n"
          ]
        },
        {
          "output_type": "display_data",
          "data": {
            "text/plain": [
              "<Figure size 640x480 with 1 Axes>"
            ],
            "image/png": "[encoded data removed]"
          },
          "metadata": {}
        }
      ]
    },
    {
      "cell_type": "code",
      "source": [
        "from sklearn.metrics import r2_score\n",
        "\n",
        "# Train the model\n",
        "history = model.fit(X_train, y_train, validation_data=(X_test, y_test), epochs=10, batch_size=32, callbacks=[early_stopping])\n",
        "\n",
        "# Evaluate the model on train and validation sets\n",
        "train_predictions = model.predict(X_train)\n",
        "train_r2_score = r2_score(y_train, train_predictions)\n",
        "\n",
        "val_predictions = model.predict(X_test)\n",
        "val_r2_score = r2_score(y_test, val_predictions)\n",
        "\n",
        "print(\"Train R2 score:\", train_r2_score)\n",
        "print(\"Validation R2 score:\", val_r2_score)\n"
      ],
      "metadata": {
        "colab": {
          "base_uri": "https://localhost:8080/"
        },
        "id": "FTsYQAognleX",
        "outputId": "48064927-acc5-42bb-9997-0bb6551b6c1d"
      },
      "execution_count": null,
      "outputs": [
        {
          "output_type": "stream",
          "name": "stdout",
          "text": [
            "Epoch 1/10\n",
            "223/223 [==============================] - 52s 220ms/step - loss: 0.0574 - accuracy: 0.9958 - val_loss: 0.0309 - val_accuracy: 0.9989\n",
            "Epoch 2/10\n",
            "223/223 [==============================] - 52s 232ms/step - loss: 0.0497 - accuracy: 0.9968 - val_loss: 0.2962 - val_accuracy: 0.9207\n",
            "Epoch 3/10\n",
            "223/223 [==============================] - 58s 260ms/step - loss: 0.0816 - accuracy: 0.9826 - val_loss: 0.0209 - val_accuracy: 1.0000\n",
            "Epoch 4/10\n",
            "223/223 [==============================] - 57s 257ms/step - loss: 0.0387 - accuracy: 0.9980 - val_loss: 0.0170 - val_accuracy: 1.0000\n",
            "Epoch 5/10\n",
            "223/223 [==============================] - 44s 197ms/step - loss: 0.0343 - accuracy: 0.9975 - val_loss: 0.0203 - val_accuracy: 0.9972\n",
            "Epoch 6/10\n",
            "223/223 [==============================] - 50s 223ms/step - loss: 0.1130 - accuracy: 0.9757 - val_loss: 0.5418 - val_accuracy: 0.8667\n",
            "Epoch 7/10\n",
            "223/223 [==============================] - 46s 208ms/step - loss: 0.1387 - accuracy: 0.9622 - val_loss: 0.0229 - val_accuracy: 1.0000\n",
            "Epoch 8/10\n",
            "223/223 [==============================] - 45s 204ms/step - loss: 0.0441 - accuracy: 0.9927 - val_loss: 0.0163 - val_accuracy: 0.9961\n",
            "Epoch 9/10\n",
            "223/223 [==============================] - 43s 193ms/step - loss: 0.0311 - accuracy: 0.9975 - val_loss: 0.0154 - val_accuracy: 0.9961\n",
            "Epoch 10/10\n",
            "223/223 [==============================] - 43s 191ms/step - loss: 0.0268 - accuracy: 0.9979 - val_loss: 0.0127 - val_accuracy: 0.9966\n",
            "223/223 [==============================] - 8s 35ms/step\n",
            "56/56 [==============================] - 3s 53ms/step\n",
            "Train R2 score: 0.9951608681721105\n",
            "Validation R2 score: 0.9955561574876691\n"
          ]
        }
      ]
    },
    {
      "cell_type": "code",
      "source": [
        "print(\"X shape:\", X_train.shape)\n",
        "print(\"y shape:\", y_train.shape)\n"
      ],
      "metadata": {
        "id": "V49Fb4OCnlbI"
      },
      "execution_count": null,
      "outputs": []
    },
    {
      "cell_type": "code",
      "source": [
        "print(\"X_train shape:\", X_train)"
      ],
      "metadata": {
        "id": "ocRJIJcCnlYQ"
      },
      "execution_count": null,
      "outputs": []
    },
    {
      "cell_type": "code",
      "source": [
        "print(\"y_train shape:\", y_train)"
      ],
      "metadata": {
        "id": "diLuIwplnlVh"
      },
      "execution_count": null,
      "outputs": []
    },
    {
      "cell_type": "code",
      "source": [
        "print(\"X_test shape:\", X_test)"
      ],
      "metadata": {
        "id": "OHu5pMU2nlTF"
      },
      "execution_count": null,
      "outputs": []
    },
    {
      "cell_type": "code",
      "source": [
        "print(\"y_test shape:\", y_test)"
      ],
      "metadata": {
        "id": "MRETVvllnlOD"
      },
      "execution_count": null,
      "outputs": []
    },
    {
      "cell_type": "code",
      "source": [
        "from sklearn.metrics import precision_recall_fscore_support\n",
        "\n",
        "# Predict on test data\n",
        "y_pred = model.predict(X_test)\n",
        "y_pred = (y_pred > 0.5)\n",
        "\n",
        "# Calculate precision, recall, F1-score, and support\n",
        "precision, recall, f1_score, support = precision_recall_fscore_support(y_test, y_pred)\n",
        "\n",
        "# Print the results\n",
        "print('Precision:', precision)\n",
        "print('Recall:', recall)\n",
        "print('F1-score:', f1_score)\n",
        "print('Support:', support)"
      ],
      "metadata": {
        "colab": {
          "base_uri": "https://localhost:8080/"
        },
        "id": "Umi_ILiunlKx",
        "outputId": "14746568-6073-40c0-d864-69187287f556"
      },
      "execution_count": null,
      "outputs": [
        {
          "output_type": "stream",
          "name": "stdout",
          "text": [
            "56/56 [==============================] - 2s 35ms/step\n",
            "Precision: [0.99302326 1.        ]\n",
            "Recall: [1.         0.99350649]\n",
            "F1-score: [0.99649942 0.99674267]\n",
            "Support: [854 924]\n"
          ]
        }
      ]
    },
    {
      "cell_type": "code",
      "source": [
        "def preprocess_single_file(file_path, seq_length):\n",
        "    df = pd.read_csv(file_path)\n",
        "    df[\"label\"] = 0  # Add a dummy label column\n",
        "    data = df.values[:seq_length, :]  # Truncate to seq_length rows if needed\n",
        "    #scaled_data = scaler.transform(data)\n",
        "    #X = np.array([scaled_data[:, :-1]])  # Create a 3D array with just one sample\n",
        "    X = np.array([data[:, :-1]])  # Create a 3D array with just one sample\n",
        "\n",
        "    return X\n",
        "\n",
        "def status(x):\n",
        "    if x > 0.5:\n",
        "        print(\"Unhealthy\")\n",
        "    else:\n",
        "        print(\"Healthy\")\n",
        "# Example usage:\n",
        "\n",
        "sample_file_path = \"/content/drive/MyDrive/d_data_test/preprocessed_d_605916.csv\"\n",
        "seq_length = 200\n",
        "\n",
        "X_sample = preprocess_single_file(sample_file_path, seq_length)\n",
        "\n",
        "# Predict on the sample file\n",
        "y_sample_pred = model.predict(X_sample)\n",
        "print(y_sample_pred[0])\n",
        "\n",
        "# Print the result\n",
        "status(y_sample_pred[0])"
      ],
      "metadata": {
        "id": "8MRm_GBznlIC"
      },
      "execution_count": null,
      "outputs": []
    },
    {
      "cell_type": "code",
      "source": [
        "# Example usage:\n",
        "\n",
        "sample_file_path = \"/content/drive/MyDrive/n_data_test/preprocessed_n_851866.csv\"\n",
        "seq_length = 200\n",
        "\n",
        "X_sample = preprocess_single_file(sample_file_path, seq_length)\n",
        "\n",
        "# Predict on the sample file\n",
        "y_sample_pred = model.predict(X_sample)\n",
        "\n",
        "# Print the result\n",
        "print(y_sample_pred[0])\n",
        "\n",
        "status(y_sample_pred[0])\n"
      ],
      "metadata": {
        "id": "q_cvlCSlnlFq"
      },
      "execution_count": null,
      "outputs": []
    },
    {
      "cell_type": "code",
      "source": [
        "print(model.summary())"
      ],
      "metadata": {
        "id": "eYyLDdygnlCu"
      },
      "execution_count": null,
      "outputs": []
    },
    {
      "cell_type": "code",
      "source": [
        "from keras.utils import plot_model\n",
        "\n",
        "# Assuming you have a trained LSTM model called 'model'\n",
        "plot_model(model, to_file='model_architecture.png', show_shapes=True)"
      ],
      "metadata": {
        "colab": {
          "base_uri": "https://localhost:8080/",
          "height": 644
        },
        "id": "pURaBSirnk6g",
        "outputId": "298ea4f7-dfe0-420f-bad7-6559b85f976b"
      },
      "execution_count": null,
      "outputs": [
        {
          "output_type": "execute_result",
          "data": {
            "image/png": "[encoded data removed]",
            "text/plain": [
              "<IPython.core.display.Image object>"
            ]
          },
          "metadata": {},
          "execution_count": 22
        }
      ]
    },
    {
      "cell_type": "code",
      "source": [
        "# Check class distribution\n",
        "unique_train, counts_train = np.unique(y_train, return_counts=True)\n",
        "unique_test, counts_test = np.unique(y_test, return_counts=True)\n",
        "\n",
        "print(\"Class distribution in training set:\", dict(zip(unique_train, counts_train)))\n",
        "print(\"Class distribution in test set:\", dict(zip(unique_test, counts_test)))"
      ],
      "metadata": {
        "colab": {
          "base_uri": "https://localhost:8080/"
        },
        "id": "UnctauVoowXt",
        "outputId": "8c244253-0fe7-477b-8cfe-de6dac8ba38b"
      },
      "execution_count": null,
      "outputs": [
        {
          "output_type": "stream",
          "name": "stdout",
          "text": [
            "Class distribution in training set: {0.0: 3456, 1.0: 3652}\n",
            "Class distribution in test set: {0.0: 854, 1.0: 924}\n"
          ]
        }
      ]
    },
    {
      "cell_type": "code",
      "source": [
        "from sklearn.metrics import classification_report\n",
        "\n",
        "# Predict the test labels\n",
        "y_pred = model.predict(X_test)\n",
        "y_pred_classes = (y_pred > 0.5).astype(int)\n",
        "\n",
        "# Calculate and print the classification report\n",
        "report = classification_report(y_test, y_pred_classes, target_names=['Healthy', 'Diseased'])\n",
        "print(report)\n"
      ],
      "metadata": {
        "colab": {
          "base_uri": "https://localhost:8080/"
        },
        "id": "z2pY7To0owVD",
        "outputId": "00f60c4f-4e99-4726-e01c-541808a480cf"
      },
      "execution_count": null,
      "outputs": [
        {
          "output_type": "stream",
          "name": "stdout",
          "text": [
            "56/56 [==============================] - 3s 51ms/step\n",
            "              precision    recall  f1-score   support\n",
            "\n",
            "     Healthy       0.99      1.00      1.00       854\n",
            "    Diseased       1.00      0.99      1.00       924\n",
            "\n",
            "    accuracy                           1.00      1778\n",
            "   macro avg       1.00      1.00      1.00      1778\n",
            "weighted avg       1.00      1.00      1.00      1778\n",
            "\n"
          ]
        }
      ]
    },
    {
      "cell_type": "code",
      "source": [],
      "metadata": {
        "id": "dQZvHlx2owRL"
      },
      "execution_count": null,
      "outputs": []
    },
    {
      "cell_type": "code",
      "source": [
        "from sklearn.model_selection import KFold\n",
        "from keras.models import clone_model\n",
        "\n",
        "def train_and_evaluate_model(X_train, y_train, X_val, y_val):\n",
        "    # Create and compile a new instance of the model\n",
        "    model = Sequential()\n",
        "    model.add(LSTM(10, input_shape=(X_train.shape[1], X_train.shape[2]), return_sequences=True))\n",
        "    model.add(Dropout(0.4))\n",
        "    model.add(LSTM(10))\n",
        "    model.add(Dropout(0.4))\n",
        "    model.add(Dense(1, activation='sigmoid'))\n",
        "    model.compile(optimizer='adam', loss='binary_crossentropy', metrics=['accuracy'])\n",
        "\n",
        "    # Train the model\n",
        "    early_stopping = EarlyStopping(monitor='val_loss', patience=5)\n",
        "    model.fit(X_train, y_train, validation_data=(X_val, y_val), epochs=10, batch_size=32, callbacks=[early_stopping], verbose=0)\n",
        "\n",
        "    # Evaluate the model\n",
        "    loss, accuracy = model.evaluate(X_val, y_val, verbose=0)\n",
        "    return accuracy\n",
        "\n",
        "# Combine the train and test sets for cross-validation\n",
        "X = np.concatenate((X_train, X_test), axis=0)\n",
        "y = np.concatenate((y_train, y_test), axis=0)\n",
        "\n",
        "# Define the number of folds for cross-validation\n",
        "num_folds = 5\n",
        "kfold = KFold(n_splits=num_folds, shuffle=True, random_state=42)\n",
        "\n",
        "# Run cross-validation\n",
        "cv_accuracies = []\n",
        "for train_index, val_index in kfold.split(X, y):\n",
        "    X_train_fold, X_val_fold = X[train_index], X[val_index]\n",
        "    y_train_fold, y_val_fold = y[train_index], y[val_index]\n",
        "\n",
        "    fold_accuracy = train_and_evaluate_model(X_train_fold, y_train_fold, X_val_fold, y_val_fold)\n",
        "    cv_accuracies.append(fold_accuracy)\n",
        "\n",
        "# Calculate and print the average accuracy across all folds\n",
        "avg_accuracy = np.mean(cv_accuracies)\n",
        "print(f\"Average accuracy across {num_folds}-fold cross-validation: {avg_accuracy}\")\n",
        "print(f\"5 accuracies: {cv_accuracies}\")"
      ],
      "metadata": {
        "colab": {
          "base_uri": "https://localhost:8080/"
        },
        "id": "MThmAXuIowMq",
        "outputId": "8a5aa51c-f6b9-4592-9d79-70afa280fc76"
      },
      "execution_count": null,
      "outputs": [
        {
          "output_type": "stream",
          "name": "stdout",
          "text": [
            "Average accuracy across 5-fold cross-validation: 0.9148028135299683\n",
            "5 accuracies: [0.976940393447876, 1.0, 0.626899242401123, 0.9966235160827637, 0.9735509157180786]\n"
          ]
        }
      ]
    },
    {
      "cell_type": "code",
      "source": [],
      "metadata": {
        "id": "s19RubKCnkvl"
      },
      "execution_count": null,
      "outputs": []
    },
    {
      "cell_type": "code",
      "source": [
        "# Data Augmentation [Windowing technique]\n",
        "from keras.preprocessing.sequence import TimeseriesGenerator\n",
        "\n",
        "# Define window size and stride\n",
        "window_size = 10\n",
        "stride = 1 \n",
        "\n",
        "# Create TimeseriesGenerator for training data\n",
        "train_generator = TimeseriesGenerator(train_features_X, train_labels_y, length=window_size, stride=stride)\n",
        "\n",
        "# Generate input sequences and corresponding labels for training data\n",
        "X_train_sequences, y_train_labels = train_generator[0]\n",
        "\n",
        "# Create TimeseriesGenerator for testing data\n",
        "test_generator = TimeseriesGenerator(test_features_X, test_labels_y, length=window_size, stride=stride)\n",
        "\n",
        "# Generate input sequences and corresponding labels for testing data\n",
        "X_test_sequences, y_test_labels = test_generator[0]\n"
      ],
      "metadata": {
        "id": "FtFl_SqmnYKU"
      },
      "execution_count": null,
      "outputs": []
    }
  ]
}